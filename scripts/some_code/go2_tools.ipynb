{
 "cells": [
  {
   "cell_type": "code",
   "execution_count": 1,
   "id": "335444d9",
   "metadata": {},
   "outputs": [],
   "source": [
    "import torch\n",
    "from torch import arctan2, arcsin, arccos, pi, sin, cos, tensor, sqrt"
   ]
  },
  {
   "cell_type": "code",
   "execution_count": 2,
   "id": "c8c8a1d3",
   "metadata": {},
   "outputs": [],
   "source": [
    "L1 = 0.067\n",
    "L2 = 0.213\n",
    "L3 = 0.210\n",
    "L4 = 0.094\n",
    "BASE_LEN = 0.257\n",
    "BASE_WIDTH = 0.0935\n",
    "\n",
    "# Последовательность лап: FR, FL, RR, RL\n",
    "\n",
    "class Legs:\n",
    "    def __init__(self):\n",
    "        self._pHip2B = tensor([\n",
    "            [ L1 + BASE_LEN / 2,  BASE_WIDTH / 2, 0.0],\n",
    "            [ L1 + BASE_LEN / 2, -BASE_WIDTH / 2, 0.0],\n",
    "            [-L1 - BASE_LEN / 2,  BASE_WIDTH / 2, 0.0],\n",
    "            [-L1 - BASE_LEN / 2, -BASE_WIDTH / 2, 0.0]\n",
    "        ])\n",
    "        self._sideSign = tensor([1, -1, 1, -1])\n",
    "\n",
    "    def h2b(self, pos_h):\n",
    "        return pos_h + self._pHip2B\n",
    "    \n",
    "    def b2h(self, pos_b):\n",
    "        return pos_b - self._pHip2B\n",
    "\n",
    "    def forward_kinematics(self, q, frame='HIP'):\n",
    "        if frame not in {'HIP', 'BODY'}:\n",
    "            raise ValueError(\"Frame must be HIP or BODY\")\n",
    "                \n",
    "        l1 = L4 * self._sideSign\n",
    "        l2 = -L2\n",
    "        l3 = -L3\n",
    "        \n",
    "        s1 = sin(q[:, 0])\n",
    "        s2 = sin(q[:, 1])\n",
    "        s3 = sin(q[:, 2])\n",
    "        c1 = cos(q[:, 0])\n",
    "        c2 = cos(q[:, 1])\n",
    "        c3 = cos(q[:, 2])\n",
    "        \n",
    "        c23 = c2 * c3 - s2 * s3\n",
    "        s23 = s2 * c3 + c2 * s3\n",
    "        \n",
    "        pEe2H = torch.zeros((4, 3))\n",
    "        pEe2H[:, 0] = l3 * s23 + l2 * s2\n",
    "        pEe2H[:, 1] = l3 * s1 * c23 + l1 * c1 + l2 * c2 * s1\n",
    "        pEe2H[:, 2] = l3 * c1 * c23 - l1 * s1 + l2 * c1 * c2\n",
    "        \n",
    "        if frame == 'BODY':\n",
    "            return self.h2b(pEe2H)\n",
    "        else:\n",
    "            return pEe2H\n",
    "        \n",
    "    def inverse_kinematics(self, pEe, frame='HIP'):\n",
    "        if frame not in {'HIP', 'BODY'}:\n",
    "            raise ValueError(\"Frame must be HIP or BODY\")\n",
    "        \n",
    "        if frame == 'BODY':\n",
    "            pEe2H = pEe - self._pHip2B\n",
    "        else:\n",
    "            pEe2H = pEe\n",
    "            \n",
    "        px, py, pz = pEe2H[:, 0], pEe2H[:, 1], pEe2H[:, 2]\n",
    "        \n",
    "        b2y = L4 * self._sideSign\n",
    "        b3z = -L2\n",
    "        b4z = -L3\n",
    "        \n",
    "        a = L4\n",
    "        c = sqrt(px**2 + py**2 + pz**2)\n",
    "        b = sqrt(c**2 - a**2)\n",
    "        \n",
    "        q1 = self.q1_ik(py, pz, b2y)\n",
    "        q3 = self.q3_ik(b3z, b4z, b)\n",
    "        q2 = self.q2_ik(q1, q3, px, py, pz, b3z, b4z)\n",
    "        \n",
    "        return torch.stack([-q1, q2, q3], dim=1)\n",
    "\n",
    "    def q1_ik(self, py, pz, l1):\n",
    "        L = sqrt(py**2 + pz**2 - l1**2)\n",
    "        return arctan2(pz * l1 + py * L, py * l1 - pz * L)\n",
    "\n",
    "    def q3_ik(self, b3z, b4z, b):\n",
    "        temp = (b3z**2 + b4z**2 - b ** 2) / ((2 * abs(b3z * b4z)))\n",
    "        temp = torch.clamp(temp, -1, 1)\n",
    "        return -(pi - arccos(temp))\n",
    "\n",
    "    def q2_ik(self, q1, q3, px, py, pz, b3z, b4z):\n",
    "        a1 = py * sin(q1) - pz * cos(q1)\n",
    "        a2 = px\n",
    "        m1 = b4z * sin(q3)\n",
    "        m2 = b3z + b4z * cos(q3)\n",
    "        return arctan2(m1 * a1 + m2 * a2, m1 * a2 - m2 * a1)\n",
    "\n",
    "    # def get_jacobian(self, q):\n",
    "    #     l1 = L4 * self._sideSign\n",
    "    #     l2 = -L2\n",
    "    #     l3 = -L3\n",
    "        \n",
    "    #     s1 = sin(q[:, 0])\n",
    "    #     s2 = sin(q[:, 1])\n",
    "    #     s3 = sin(q[:, 2])\n",
    "    #     c1 = cos(q[:, 0])\n",
    "    #     c2 = cos(q[:, 1])\n",
    "    #     c3 = cos(q[:, 2])\n",
    "        \n",
    "    #     c23 = c2*c3 - s2*s3\n",
    "    #     s23 = s2*c3 + c2*s3\n",
    "        \n",
    "    #     J = np.zeros((4, 3, 3))\n",
    "        \n",
    "    #     # dP/dq1\n",
    "    #     J[:, 0, 0] = 0\n",
    "    #     J[:, 1, 0] = -l3 * c1 * c23 - l2 * c1 * c2 - l1 * s1\n",
    "    #     J[:, 2, 0] = -l3 * s1 * c23 - l2 * c2 * s1 + l1 * c1\n",
    "        \n",
    "    #     # dP/dq2\n",
    "    #     J[:, 0, 1] = l3 * c23 + l2 * c2\n",
    "    #     J[:, 1, 1] = l3 * s1 * s23 + l2 * s1 * s2\n",
    "    #     J[:, 2, 1] = -l3 * c1 * s23 - l2 * c1 * s2\n",
    "        \n",
    "    #     # dP/dq3\n",
    "    #     J[:, 0, 2] = l3 * c23\n",
    "    #     J[:, 1, 2] = l3 * s1 * s23\n",
    "    #     J[:, 2, 2] = -l3 * c1 * s23\n",
    "        \n",
    "    #     return J\n",
    "\n",
    "    # def calcForceFromTau(self, tau, q):\n",
    "    #     J = self.get_jacobian(q)\n",
    "    #     JT = J.transpose(0, 2, 1)\n",
    "        \n",
    "    #     try:\n",
    "    #         # Попытка решения через обратную матрицу\n",
    "    #         F = np.linalg.inv(JT) @ np.expand_dims(tau, axis=2)\n",
    "    #     except np.linalg.LinAlgError:\n",
    "    #         # Если матрица вырождена - используем псевдоинверсию\n",
    "    #         F = np.linalg.pinv(JT) @ np.expand_dims(tau, axis=2)\n",
    "        \n",
    "    #     return np.squeeze(F)"
   ]
  },
  {
   "cell_type": "code",
   "execution_count": 3,
   "id": "ec3cc630",
   "metadata": {},
   "outputs": [],
   "source": [
    "leg = Legs()"
   ]
  },
  {
   "cell_type": "code",
   "execution_count": 4,
   "id": "5bbcff5f",
   "metadata": {},
   "outputs": [
    {
     "data": {
      "text/plain": [
       "tensor([[ 6.1244e-06,  9.4000e-02, -3.0901e-01],\n",
       "        [ 6.1244e-06, -9.4000e-02, -3.0901e-01],\n",
       "        [ 6.1244e-06,  9.4000e-02, -3.0901e-01],\n",
       "        [ 6.1244e-06, -9.4000e-02, -3.0901e-01]])"
      ]
     },
     "execution_count": 4,
     "metadata": {},
     "output_type": "execute_result"
    }
   ],
   "source": [
    "# q = tensor([\n",
    "#     [0.0, 0.8, -1.5],\n",
    "#     [0.0, 0.8, -1.5],\n",
    "#     [0.0, 0.8, -1.5],\n",
    "#     [0.0, 0.8, -1.5]\n",
    "# ])\n",
    "q = tensor([\n",
    "    [-0.0000,  0.7451, -1.5035],\n",
    "    [-0.0000,  0.7451, -1.5035],\n",
    "    [-0.0000,  0.7451, -1.5035],\n",
    "    [-0.0000,  0.7451, -1.5035]\n",
    "])\n",
    "pos_h = leg.forward_kinematics(q)\n",
    "pos_h"
   ]
  },
  {
   "cell_type": "code",
   "execution_count": 5,
   "id": "46d24e26",
   "metadata": {},
   "outputs": [
    {
     "data": {
      "text/plain": [
       "tensor([[ 6.1244e-06,  9.4000e-02, -3.0901e-01],\n",
       "        [ 6.1244e-06, -9.4000e-02, -3.0901e-01],\n",
       "        [ 6.1244e-06,  9.4000e-02, -3.0901e-01],\n",
       "        [ 6.1244e-06, -9.4000e-02, -3.0901e-01]])"
      ]
     },
     "execution_count": 5,
     "metadata": {},
     "output_type": "execute_result"
    }
   ],
   "source": [
    "pos_h = leg.forward_kinematics(q)\n",
    "pos_h"
   ]
  },
  {
   "cell_type": "code",
   "execution_count": 6,
   "id": "3f9078b2",
   "metadata": {},
   "outputs": [
    {
     "data": {
      "text/plain": [
       "tensor([[ 0.1955,  0.1407, -0.3090],\n",
       "        [ 0.1955, -0.1407, -0.3090],\n",
       "        [-0.1955,  0.1407, -0.3090],\n",
       "        [-0.1955, -0.1407, -0.3090]])"
      ]
     },
     "execution_count": 6,
     "metadata": {},
     "output_type": "execute_result"
    }
   ],
   "source": [
    "pos_b = leg.forward_kinematics(q, frame='BODY')\n",
    "pos_b"
   ]
  },
  {
   "cell_type": "code",
   "execution_count": 16,
   "id": "cf0c5bad",
   "metadata": {},
   "outputs": [
    {
     "data": {
      "text/plain": [
       "tensor([[-0.0037, -0.2954,  0.0031],\n",
       "        [-0.0037,  0.2959,  0.0033],\n",
       "        [ 0.0005, -0.2954,  0.0031],\n",
       "        [ 0.0005,  0.2959,  0.0033]])"
      ]
     },
     "execution_count": 16,
     "metadata": {},
     "output_type": "execute_result"
    }
   ],
   "source": [
    "a = tensor([\n",
    "    [ 0.1918, -0.1547, -0.3059],\n",
    "    [ 0.1918,  0.1552, -0.3057],\n",
    "    [-0.1950, -0.1547, -0.3059],\n",
    "    [-0.1950,  0.1552, -0.3057]\n",
    "])\n",
    "b = tensor([\n",
    "    [ 0.1955,  0.1407, -0.3090],\n",
    "    [ 0.1955, -0.1407, -0.3090],\n",
    "    [-0.1955,  0.1407, -0.3090],\n",
    "    [-0.1955, -0.1407, -0.3090]\n",
    "])\n",
    "\n",
    "a - b"
   ]
  },
  {
   "cell_type": "code",
   "execution_count": 9,
   "id": "9fbd45de",
   "metadata": {},
   "outputs": [],
   "source": [
    "pos_h = torch.tensor([\n",
    "    [0.0,  0.0940, -0.3090],\n",
    "    [0.0, -0.0940, -0.3090],\n",
    "    [0.0,  0.0940, -0.3090],\n",
    "    [0.0, -0.0940, -0.3090]\n",
    "])"
   ]
  },
  {
   "cell_type": "code",
   "execution_count": 10,
   "id": "fffe3cc2",
   "metadata": {},
   "outputs": [
    {
     "data": {
      "text/plain": [
       "tensor([[-0.0000,  0.7451, -1.5035],\n",
       "        [-0.0000,  0.7451, -1.5035],\n",
       "        [-0.0000,  0.7451, -1.5035],\n",
       "        [-0.0000,  0.7451, -1.5035]])"
      ]
     },
     "execution_count": 10,
     "metadata": {},
     "output_type": "execute_result"
    }
   ],
   "source": [
    "q = leg.inverse_kinematics(pos_h)\n",
    "q"
   ]
  },
  {
   "cell_type": "code",
   "execution_count": 100,
   "id": "3db66b74",
   "metadata": {},
   "outputs": [
    {
     "data": {
      "text/plain": [
       "tensor([[        nan,         nan, -2.1326e+00],\n",
       "        [-1.6645e-04,  4.9998e-01, -1.5000e+00],\n",
       "        [ 1.6180e-04,  8.0008e-01, -1.5002e+00],\n",
       "        [-1.6180e-04,  8.0008e-01, -1.5002e+00]])"
      ]
     },
     "execution_count": 100,
     "metadata": {},
     "output_type": "execute_result"
    }
   ],
   "source": [
    "q = leg.inverse_kinematics(pos_b, frame='BODY')\n",
    "q"
   ]
  },
  {
   "cell_type": "code",
   "execution_count": 101,
   "id": "b37c5334",
   "metadata": {},
   "outputs": [
    {
     "data": {
      "text/plain": [
       "tensor([[ True,  True, False],\n",
       "        [False, False, False],\n",
       "        [False, False, False],\n",
       "        [False, False, False]])"
      ]
     },
     "execution_count": 101,
     "metadata": {},
     "output_type": "execute_result"
    }
   ],
   "source": [
    "torch.isnan(q)"
   ]
  },
  {
   "cell_type": "code",
   "execution_count": 102,
   "id": "4cff8902",
   "metadata": {},
   "outputs": [
    {
     "data": {
      "text/plain": [
       "tensor([[ 0.0000e+00,  0.0000e+00, -2.1326e+00],\n",
       "        [-1.6645e-04,  4.9998e-01, -1.5000e+00],\n",
       "        [ 1.6180e-04,  8.0008e-01, -1.5002e+00],\n",
       "        [-1.6180e-04,  8.0008e-01, -1.5002e+00]])"
      ]
     },
     "execution_count": 102,
     "metadata": {},
     "output_type": "execute_result"
    }
   ],
   "source": [
    "torch.where(\n",
    "    torch.isnan(q),\n",
    "    0.0,\n",
    "    q\n",
    ")"
   ]
  },
  {
   "cell_type": "code",
   "execution_count": 172,
   "id": "8bbac1c7",
   "metadata": {},
   "outputs": [],
   "source": [
    "L1 = 0.067\n",
    "L2 = 0.213\n",
    "L3 = 0.210\n",
    "L4 = 0.094\n",
    "BASE_LEN = 0.257\n",
    "BASE_WIDTH = 0.0935\n",
    "\n",
    "class LegsIsaac:\n",
    "    def __init__(self):\n",
    "        self._pHip2B = tensor([\n",
    "            [ L1 + BASE_LEN / 2,  BASE_WIDTH / 2, 0.0],\n",
    "            [ L1 + BASE_LEN / 2, -BASE_WIDTH / 2, 0.0],\n",
    "            [-L1 - BASE_LEN / 2,  BASE_WIDTH / 2, 0.0],\n",
    "            [-L1 - BASE_LEN / 2, -BASE_WIDTH / 2, 0.0]\n",
    "        ])\n",
    "        self._sideSign = tensor([1, -1, 1, -1])\n",
    "\n",
    "    def h2b(self, pos_h):\n",
    "        return pos_h + self._pHip2B\n",
    "    \n",
    "    def b2h(self, pos_b):\n",
    "        return pos_b - self._pHip2B\n",
    "\n",
    "    def forward_kinematics(self, q, frame='HIP'):\n",
    "        if frame not in {'HIP', 'BODY'}:\n",
    "            raise ValueError(\"Frame must be HIP or BODY\")\n",
    "                \n",
    "        l1 = L4 * self._sideSign\n",
    "        l2 = -L2\n",
    "        l3 = -L3\n",
    "        \n",
    "        s1 = sin(q[:, :, 0])\n",
    "        s2 = sin(q[:, :, 1])\n",
    "        s3 = sin(q[:, :, 2])\n",
    "        c1 = cos(q[:, :, 0])\n",
    "        c2 = cos(q[:, :, 1])\n",
    "        c3 = cos(q[:, :, 2])\n",
    "        \n",
    "        c23 = c2 * c3 - s2 * s3\n",
    "        s23 = s2 * c3 + c2 * s3\n",
    "        \n",
    "        pEe2H = torch.zeros_like(q)\n",
    "        pEe2H[:, :, 0] = l3 * s23 + l2 * s2\n",
    "        pEe2H[:, :, 1] = l3 * s1 * c23 + l1 * c1 + l2 * c2 * s1\n",
    "        pEe2H[:, :, 2] = l3 * c1 * c23 - l1 * s1 + l2 * c1 * c2\n",
    "        \n",
    "        if frame == 'BODY':\n",
    "            return self.h2b(pEe2H)\n",
    "        else:\n",
    "            return pEe2H\n",
    "        \n",
    "    def inverse_kinematics(self, pEe, frame='HIP'):\n",
    "        if frame not in {'HIP', 'BODY'}:\n",
    "            raise ValueError(\"Frame must be HIP or BODY\")\n",
    "        \n",
    "        if frame == 'BODY':\n",
    "            pEe2H = pEe - self._pHip2B\n",
    "        else:\n",
    "            pEe2H = pEe\n",
    "            \n",
    "        px, py, pz = pEe2H[:, :, 0], pEe2H[:, :, 1], pEe2H[:, :, 2]\n",
    "        \n",
    "        b2y = L4 * self._sideSign\n",
    "        b3z = -L2\n",
    "        b4z = -L3\n",
    "        \n",
    "        a = L4\n",
    "        c = sqrt(px**2 + py**2 + pz**2)\n",
    "        b = sqrt(c**2 - a**2)\n",
    "        \n",
    "        q1 = self.q1_ik(py, pz, b2y)\n",
    "        q3 = self.q3_ik(b3z, b4z, b)\n",
    "        q2 = self.q2_ik(q1, q3, px, py, pz, b3z, b4z)\n",
    "        \n",
    "        return torch.stack([-q1, q2, q3], dim=-1)\n",
    "\n",
    "    def q1_ik(self, py, pz, l1):\n",
    "        L = sqrt(py**2 + pz**2 - l1**2)\n",
    "        return arctan2(pz * l1 + py * L, py * l1 - pz * L)\n",
    "\n",
    "    def q3_ik(self, b3z, b4z, b):\n",
    "        temp = (b3z**2 + b4z**2 - b ** 2) / (2 * abs(b3z * b4z))\n",
    "        temp = torch.clamp(temp, -1, 1)\n",
    "        return -(pi - arccos(temp))\n",
    "\n",
    "    def q2_ik(self, q1, q3, px, py, pz, b3z, b4z):\n",
    "        a1 = py * sin(q1) - pz * cos(q1)\n",
    "        a2 = px\n",
    "        m1 = b4z * sin(q3)\n",
    "        m2 = b3z + b4z * cos(q3)\n",
    "        return arctan2(m1 * a1 + m2 * a2, m1 * a2 - m2 * a1)\n",
    "\n",
    "    # def get_jacobian(self, q):\n",
    "    #     l1 = L4 * self._sideSign\n",
    "    #     l2 = -L2\n",
    "    #     l3 = -L3\n",
    "        \n",
    "    #     s1 = sin(q[:, 0])\n",
    "    #     s2 = sin(q[:, 1])\n",
    "    #     s3 = sin(q[:, 2])\n",
    "    #     c1 = cos(q[:, 0])\n",
    "    #     c2 = cos(q[:, 1])\n",
    "    #     c3 = cos(q[:, 2])\n",
    "        \n",
    "    #     c23 = c2*c3 - s2*s3\n",
    "    #     s23 = s2*c3 + c2*s3\n",
    "        \n",
    "    #     J = np.zeros((4, 3, 3))\n",
    "        \n",
    "    #     # dP/dq1\n",
    "    #     J[:, 0, 0] = 0\n",
    "    #     J[:, 1, 0] = -l3 * c1 * c23 - l2 * c1 * c2 - l1 * s1\n",
    "    #     J[:, 2, 0] = -l3 * s1 * c23 - l2 * c2 * s1 + l1 * c1\n",
    "        \n",
    "    #     # dP/dq2\n",
    "    #     J[:, 0, 1] = l3 * c23 + l2 * c2\n",
    "    #     J[:, 1, 1] = l3 * s1 * s23 + l2 * s1 * s2\n",
    "    #     J[:, 2, 1] = -l3 * c1 * s23 - l2 * c1 * s2\n",
    "        \n",
    "    #     # dP/dq3\n",
    "    #     J[:, 0, 2] = l3 * c23\n",
    "    #     J[:, 1, 2] = l3 * s1 * s23\n",
    "    #     J[:, 2, 2] = -l3 * c1 * s23\n",
    "        \n",
    "    #     return J\n",
    "\n",
    "    # def calcForceFromTau(self, tau, q):\n",
    "    #     J = self.get_jacobian(q)\n",
    "    #     JT = J.transpose(0, 2, 1)\n",
    "        \n",
    "    #     try:\n",
    "    #         # Попытка решения через обратную матрицу\n",
    "    #         F = np.linalg.inv(JT) @ np.expand_dims(tau, axis=2)\n",
    "    #     except np.linalg.LinAlgError:\n",
    "    #         # Если матрица вырождена - используем псевдоинверсию\n",
    "    #         F = np.linalg.pinv(JT) @ np.expand_dims(tau, axis=2)\n",
    "        \n",
    "    #     return np.squeeze(F)"
   ]
  },
  {
   "cell_type": "code",
   "execution_count": 173,
   "id": "c446cc84",
   "metadata": {},
   "outputs": [],
   "source": [
    "legs = LegsIsaac()"
   ]
  },
  {
   "cell_type": "code",
   "execution_count": 174,
   "id": "7df7b617",
   "metadata": {},
   "outputs": [],
   "source": [
    "q = tensor([\n",
    "    [0.0, 0.5, -1.5],\n",
    "    [0.0, 0.5, -1.5],\n",
    "    [0.0, 0.8, -1.5],\n",
    "    [0.0, 0.8, -1.5]\n",
    "])"
   ]
  },
  {
   "cell_type": "code",
   "execution_count": 175,
   "id": "d466679d",
   "metadata": {},
   "outputs": [
    {
     "data": {
      "text/plain": [
       "torch.Size([10, 4, 3])"
      ]
     },
     "execution_count": 175,
     "metadata": {},
     "output_type": "execute_result"
    }
   ],
   "source": [
    "q = q.flatten().repeat(10, 1)\n",
    "q = q.reshape(q.shape[0], 4, 3)\n",
    "q.shape"
   ]
  },
  {
   "cell_type": "code",
   "execution_count": 176,
   "id": "71af35b7",
   "metadata": {},
   "outputs": [],
   "source": [
    "pos_h = legs.forward_kinematics(q)"
   ]
  },
  {
   "cell_type": "code",
   "execution_count": 177,
   "id": "bbda63be",
   "metadata": {},
   "outputs": [
    {
     "data": {
      "text/plain": [
       "tensor([[[ 0.0746,  0.0940, -0.3004],\n",
       "         [ 0.0746, -0.0940, -0.3004],\n",
       "         [-0.0175,  0.0940, -0.3090],\n",
       "         [-0.0175, -0.0940, -0.3090]],\n",
       "\n",
       "        [[ 0.0746,  0.0940, -0.3004],\n",
       "         [ 0.0746, -0.0940, -0.3004],\n",
       "         [-0.0175,  0.0940, -0.3090],\n",
       "         [-0.0175, -0.0940, -0.3090]],\n",
       "\n",
       "        [[ 0.0746,  0.0940, -0.3004],\n",
       "         [ 0.0746, -0.0940, -0.3004],\n",
       "         [-0.0175,  0.0940, -0.3090],\n",
       "         [-0.0175, -0.0940, -0.3090]],\n",
       "\n",
       "        [[ 0.0746,  0.0940, -0.3004],\n",
       "         [ 0.0746, -0.0940, -0.3004],\n",
       "         [-0.0175,  0.0940, -0.3090],\n",
       "         [-0.0175, -0.0940, -0.3090]],\n",
       "\n",
       "        [[ 0.0746,  0.0940, -0.3004],\n",
       "         [ 0.0746, -0.0940, -0.3004],\n",
       "         [-0.0175,  0.0940, -0.3090],\n",
       "         [-0.0175, -0.0940, -0.3090]],\n",
       "\n",
       "        [[ 0.0746,  0.0940, -0.3004],\n",
       "         [ 0.0746, -0.0940, -0.3004],\n",
       "         [-0.0175,  0.0940, -0.3090],\n",
       "         [-0.0175, -0.0940, -0.3090]],\n",
       "\n",
       "        [[ 0.0746,  0.0940, -0.3004],\n",
       "         [ 0.0746, -0.0940, -0.3004],\n",
       "         [-0.0175,  0.0940, -0.3090],\n",
       "         [-0.0175, -0.0940, -0.3090]],\n",
       "\n",
       "        [[ 0.0746,  0.0940, -0.3004],\n",
       "         [ 0.0746, -0.0940, -0.3004],\n",
       "         [-0.0175,  0.0940, -0.3090],\n",
       "         [-0.0175, -0.0940, -0.3090]],\n",
       "\n",
       "        [[ 0.0746,  0.0940, -0.3004],\n",
       "         [ 0.0746, -0.0940, -0.3004],\n",
       "         [-0.0175,  0.0940, -0.3090],\n",
       "         [-0.0175, -0.0940, -0.3090]],\n",
       "\n",
       "        [[ 0.0746,  0.0940, -0.3004],\n",
       "         [ 0.0746, -0.0940, -0.3004],\n",
       "         [-0.0175,  0.0940, -0.3090],\n",
       "         [-0.0175, -0.0940, -0.3090]]])"
      ]
     },
     "execution_count": 177,
     "metadata": {},
     "output_type": "execute_result"
    }
   ],
   "source": [
    "pos_h"
   ]
  },
  {
   "cell_type": "code",
   "execution_count": 178,
   "id": "a13b73ea",
   "metadata": {},
   "outputs": [
    {
     "data": {
      "text/plain": [
       "tensor([[[-0.0175,  0.0940, -0.3090],\n",
       "         [-0.0175, -0.0940, -0.3090],\n",
       "         [ 0.0746,  0.0940, -0.3004],\n",
       "         [ 0.0746, -0.0940, -0.3004]],\n",
       "\n",
       "        [[-0.0175,  0.0940, -0.3090],\n",
       "         [-0.0175, -0.0940, -0.3090],\n",
       "         [ 0.0746,  0.0940, -0.3004],\n",
       "         [ 0.0746, -0.0940, -0.3004]],\n",
       "\n",
       "        [[-0.0175,  0.0940, -0.3090],\n",
       "         [-0.0175, -0.0940, -0.3090],\n",
       "         [ 0.0746,  0.0940, -0.3004],\n",
       "         [ 0.0746, -0.0940, -0.3004]],\n",
       "\n",
       "        [[-0.0175,  0.0940, -0.3090],\n",
       "         [-0.0175, -0.0940, -0.3090],\n",
       "         [ 0.0746,  0.0940, -0.3004],\n",
       "         [ 0.0746, -0.0940, -0.3004]],\n",
       "\n",
       "        [[-0.0175,  0.0940, -0.3090],\n",
       "         [-0.0175, -0.0940, -0.3090],\n",
       "         [ 0.0746,  0.0940, -0.3004],\n",
       "         [ 0.0746, -0.0940, -0.3004]],\n",
       "\n",
       "        [[-0.0175,  0.0940, -0.3090],\n",
       "         [-0.0175, -0.0940, -0.3090],\n",
       "         [ 0.0746,  0.0940, -0.3004],\n",
       "         [ 0.0746, -0.0940, -0.3004]],\n",
       "\n",
       "        [[-0.0175,  0.0940, -0.3090],\n",
       "         [-0.0175, -0.0940, -0.3090],\n",
       "         [ 0.0746,  0.0940, -0.3004],\n",
       "         [ 0.0746, -0.0940, -0.3004]],\n",
       "\n",
       "        [[-0.0175,  0.0940, -0.3090],\n",
       "         [-0.0175, -0.0940, -0.3090],\n",
       "         [ 0.0746,  0.0940, -0.3004],\n",
       "         [ 0.0746, -0.0940, -0.3004]],\n",
       "\n",
       "        [[-0.0175,  0.0940, -0.3090],\n",
       "         [-0.0175, -0.0940, -0.3090],\n",
       "         [ 0.0746,  0.0940, -0.3004],\n",
       "         [ 0.0746, -0.0940, -0.3004]],\n",
       "\n",
       "        [[-0.0175,  0.0940, -0.3090],\n",
       "         [-0.0175, -0.0940, -0.3090],\n",
       "         [ 0.0746,  0.0940, -0.3004],\n",
       "         [ 0.0746, -0.0940, -0.3004]]])"
      ]
     },
     "execution_count": 178,
     "metadata": {},
     "output_type": "execute_result"
    }
   ],
   "source": [
    "pos_h_sym = torch.zeros_like(pos_h)\n",
    "pos_h_sym[:, [0, 1]] = pos_h[:, [2, 3]]\n",
    "pos_h_sym[:, [2, 3]] = pos_h[:, [0, 1]]\n",
    "pos_h_sym"
   ]
  },
  {
   "cell_type": "code",
   "execution_count": 179,
   "id": "dae3744e",
   "metadata": {},
   "outputs": [],
   "source": [
    "pos_h_sym *= tensor([\n",
    "    [-1, 1, 1],\n",
    "    [-1, 1, 1],\n",
    "    [-1, 1, 1],\n",
    "    [-1, 1, 1],\n",
    "])"
   ]
  },
  {
   "cell_type": "code",
   "execution_count": 180,
   "id": "9b258ee2",
   "metadata": {},
   "outputs": [],
   "source": [
    "q = legs.inverse_kinematics(pos_h_sym)"
   ]
  },
  {
   "cell_type": "code",
   "execution_count": 1,
   "id": "b6dc01f4",
   "metadata": {},
   "outputs": [],
   "source": [
    "import torch"
   ]
  },
  {
   "cell_type": "code",
   "execution_count": 7,
   "id": "849b4a69",
   "metadata": {},
   "outputs": [
    {
     "data": {
      "text/plain": [
       "tensor([-0.6205, -0.2525, -1.2172, -0.3586,  0.5725,  0.0029, -1.6210, -1.3642,\n",
       "        -2.0167,  0.8616, -0.8789,  0.7144])"
      ]
     },
     "execution_count": 7,
     "metadata": {},
     "output_type": "execute_result"
    }
   ],
   "source": [
    "t = torch.randn(12)\n",
    "t"
   ]
  },
  {
   "cell_type": "code",
   "execution_count": 8,
   "id": "1a059604",
   "metadata": {},
   "outputs": [
    {
     "data": {
      "text/plain": [
       "tensor([[-0.6205, -0.2525, -1.2172],\n",
       "        [-0.3586,  0.5725,  0.0029],\n",
       "        [-1.6210, -1.3642, -2.0167],\n",
       "        [ 0.8616, -0.8789,  0.7144]])"
      ]
     },
     "execution_count": 8,
     "metadata": {},
     "output_type": "execute_result"
    }
   ],
   "source": [
    "t.reshape(4, 3)"
   ]
  },
  {
   "cell_type": "code",
   "execution_count": 10,
   "id": "9e47fdcc",
   "metadata": {},
   "outputs": [
    {
     "data": {
      "text/plain": [
       "tensor([[0.0000, 0.0000, 0.0000],\n",
       "        [0.0000, 0.5725, 0.0029],\n",
       "        [0.0000, 0.0000, 0.0000],\n",
       "        [0.8616, 0.0000, 0.7144]])"
      ]
     },
     "execution_count": 10,
     "metadata": {},
     "output_type": "execute_result"
    }
   ],
   "source": [
    "t.reshape(4, 3).clamp_(\n",
    "    torch.zeros(3),\n",
    "    torch.ones(3)\n",
    ")"
   ]
  },
  {
   "cell_type": "code",
   "execution_count": 6,
   "id": "03b6c254",
   "metadata": {},
   "outputs": [
    {
     "data": {
      "text/plain": [
       "tensor([0.7651, 0.1611, 0.0000, 0.0000, 0.0000, 0.9278, 1.0000, 0.0000, 0.1160,\n",
       "        0.6003, 0.2038, 0.0000])"
      ]
     },
     "execution_count": 6,
     "metadata": {},
     "output_type": "execute_result"
    }
   ],
   "source": [
    "t"
   ]
  },
  {
   "cell_type": "code",
   "execution_count": null,
   "id": "5ea11f67",
   "metadata": {},
   "outputs": [],
   "source": []
  }
 ],
 "metadata": {
  "kernelspec": {
   "display_name": "env_isaacsim_5.0.0",
   "language": "python",
   "name": "python3"
  },
  "language_info": {
   "codemirror_mode": {
    "name": "ipython",
    "version": 3
   },
   "file_extension": ".py",
   "mimetype": "text/x-python",
   "name": "python",
   "nbconvert_exporter": "python",
   "pygments_lexer": "ipython3",
   "version": "3.11.0"
  }
 },
 "nbformat": 4,
 "nbformat_minor": 5
}
