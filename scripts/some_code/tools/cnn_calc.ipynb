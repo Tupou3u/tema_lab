{
 "cells": [
  {
   "cell_type": "code",
   "execution_count": 3,
   "id": "bb90c663",
   "metadata": {},
   "outputs": [],
   "source": [
    "import torch\n",
    "from torch import nn\n",
    "import time"
   ]
  },
  {
   "cell_type": "code",
   "execution_count": 20,
   "id": "77723a06",
   "metadata": {},
   "outputs": [],
   "source": [
    "num_actions = 12\n",
    "student_hidden_dims = [256, 128, 64]\n",
    "teacher_hidden_dims = [256, 128, 64]\n",
    "activation = nn.ELU()\n",
    "init_noise_std = 0.1\n",
    "student_cnn_kernel_sizes=[5, 5, 5, 5, 5, 5]\n",
    "student_cnn_strides=[1, 2, 1, 2, 1, 2]\n",
    "student_cnn_filters=[32] * 6\n",
    "student_cnn_paddings=[2, 2, 4, 2, 8, 2]\n",
    "student_cnn_dilations=[1, 1, 2, 1, 4, 1]\n",
    "teacher_enc_dims = [128, 64]\n",
    "len_o1 = 48\n",
    "len_student_obs = 65\n",
    "enc_activation = True\n",
    "\n",
    "s_out_channels = student_cnn_filters\n",
    "s_in_channels = [len_o1] + student_cnn_filters[:-1]"
   ]
  },
  {
   "cell_type": "code",
   "execution_count": 30,
   "id": "c8e92509",
   "metadata": {},
   "outputs": [
    {
     "name": "stdout",
     "output_type": "stream",
     "text": [
      "64 2048\n",
      "True\n",
      "32 1024\n",
      "True\n",
      "32 1024\n",
      "True\n",
      "16 512\n",
      "True\n",
      "16 512\n",
      "True\n",
      "8 256\n",
      "True\n"
     ]
    }
   ],
   "source": [
    "cnn_student_layers = []\n",
    "s_cnn_out = len_student_obs - 1\n",
    "for in_ch, out_ch, kernel_size, stride, padding, dilation in zip(\n",
    "    s_in_channels, \n",
    "    s_out_channels, \n",
    "    student_cnn_kernel_sizes, \n",
    "    student_cnn_strides, \n",
    "    student_cnn_paddings, \n",
    "    student_cnn_dilations\n",
    "):\n",
    "    cnn_student_layers.append(nn.Conv1d(\n",
    "        in_channels=in_ch,\n",
    "        out_channels=out_ch,\n",
    "        kernel_size=kernel_size,\n",
    "        stride=stride,\n",
    "        padding=padding,\n",
    "        dilation=dilation\n",
    "    ))\n",
    "    cnn_student_layers.append(nn.BatchNorm1d(out_ch))\n",
    "    cnn_student_layers.append(activation)\n",
    "    print((s_cnn_out + 2 * padding - dilation * (kernel_size - 1) - 1) // stride + 1, ((s_cnn_out + 2 * padding - dilation * (kernel_size - 1) - 1) // stride + 1) * out_ch)\n",
    "    print(((s_cnn_out + 2 * padding - dilation * (kernel_size - 1) - 1) // stride + 1) * stride >= s_cnn_out) \n",
    "    s_cnn_out = (s_cnn_out + 2 * padding - dilation * (kernel_size - 1) - 1) // stride + 1\n",
    "\n",
    "cnn_student_layers.append(nn.Flatten())\n",
    "cnn_student_layers.append(nn.Linear(s_cnn_out * s_out_channels[-1], teacher_enc_dims[-1]))\n",
    "if enc_activation:\n",
    "    cnn_student_layers.append(activation)\n",
    "cnn_student = nn.Sequential(*cnn_student_layers)\n",
    "\n",
    "student_layers = []\n",
    "student_layers.append(nn.Linear(teacher_enc_dims[-1] + len_o1, student_hidden_dims[0]))\n",
    "student_layers.append(activation)\n",
    "for layer_index in range(len(student_hidden_dims)):\n",
    "    if layer_index == len(student_hidden_dims) - 1:\n",
    "        student_layers.append(nn.Linear(student_hidden_dims[layer_index], num_actions))\n",
    "    else:\n",
    "        student_layers.append(nn.Linear(student_hidden_dims[layer_index], student_hidden_dims[layer_index + 1]))\n",
    "        student_layers.append(activation)\n",
    "student = nn.Sequential(*student_layers)"
   ]
  },
  {
   "cell_type": "code",
   "execution_count": 27,
   "id": "bc4b21fe",
   "metadata": {},
   "outputs": [
    {
     "name": "stdout",
     "output_type": "stream",
     "text": [
      "33856\n",
      "70860\n",
      "104716\n"
     ]
    }
   ],
   "source": [
    "print(sum([p.numel() for p in cnn_student.parameters()]))\n",
    "print(sum([p.numel() for p in student.parameters()]))\n",
    "print(sum([p.numel() for p in cnn_student.parameters()]) + sum([p.numel() for p in student.parameters()]))"
   ]
  },
  {
   "cell_type": "code",
   "execution_count": 28,
   "id": "492d2c2f",
   "metadata": {},
   "outputs": [],
   "source": [
    "x = torch.rand(1024, 64, 48)"
   ]
  },
  {
   "cell_type": "code",
   "execution_count": 29,
   "id": "c3f34033",
   "metadata": {},
   "outputs": [
    {
     "data": {
      "text/plain": [
       "torch.Size([1024, 32, 8])"
      ]
     },
     "execution_count": 29,
     "metadata": {},
     "output_type": "execute_result"
    }
   ],
   "source": [
    "cnn_student(x.permute(0, 2, 1)).shape"
   ]
  },
  {
   "cell_type": "code",
   "execution_count": null,
   "id": "1b5bc674",
   "metadata": {},
   "outputs": [],
   "source": []
  }
 ],
 "metadata": {
  "kernelspec": {
   "display_name": "env_isaacsim_5.0.0",
   "language": "python",
   "name": "python3"
  },
  "language_info": {
   "codemirror_mode": {
    "name": "ipython",
    "version": 3
   },
   "file_extension": ".py",
   "mimetype": "text/x-python",
   "name": "python",
   "nbconvert_exporter": "python",
   "pygments_lexer": "ipython3",
   "version": "3.11.0rc1"
  }
 },
 "nbformat": 4,
 "nbformat_minor": 5
}
