{
 "cells": [
  {
   "cell_type": "code",
   "execution_count": 2,
   "id": "875f15d7",
   "metadata": {},
   "outputs": [],
   "source": [
    "import torch\n",
    "import torch.nn as nn\n",
    "from torch.distributions import Normal\n",
    "import os"
   ]
  },
  {
   "cell_type": "code",
   "execution_count": 3,
   "id": "fe3d42bc",
   "metadata": {},
   "outputs": [],
   "source": [
    "class CNN1d_o1_Student(nn.Module):\n",
    "    def __init__(\n",
    "        self,\n",
    "        num_obs: int,\n",
    "        num_actions: int,\n",
    "        student_hidden_dims: list[int],\n",
    "        student_cnn_kernel_sizes: list[int],\n",
    "        student_cnn_strides: list[int],\n",
    "        student_cnn_filters: list[int],\n",
    "        student_cnn_paddings: list[int],\n",
    "        student_cnn_dilations: list[int],\n",
    "        len_latent: int = 64,\n",
    "        len_o1: int = 48,\n",
    "        enc_activation: bool = True\n",
    "    ):\n",
    "        super().__init__()\n",
    "        activation = nn.ELU()\n",
    "\n",
    "        self.num_obs = num_obs\n",
    "        self.len_o1 = len_o1\n",
    "        self.len_latent = len_latent\n",
    "\n",
    "        # student\n",
    "        s_out_channels = student_cnn_filters\n",
    "        s_in_channels = [self.len_o1] + student_cnn_filters[:-1]\n",
    "        \n",
    "        cnn_student_layers = []\n",
    "        s_cnn_out = self.num_obs - 1\n",
    "        for in_ch, out_ch, kernel_size, stride, padding, dilation in zip(\n",
    "            s_in_channels, \n",
    "            s_out_channels, \n",
    "            student_cnn_kernel_sizes, \n",
    "            student_cnn_strides, \n",
    "            student_cnn_paddings, \n",
    "            student_cnn_dilations\n",
    "        ):\n",
    "            cnn_student_layers.append(nn.Conv1d(\n",
    "                in_channels=in_ch,\n",
    "                out_channels=out_ch,\n",
    "                kernel_size=kernel_size,\n",
    "                stride=stride,\n",
    "                padding=padding,\n",
    "                dilation=dilation\n",
    "            ))\n",
    "            cnn_student_layers.append(nn.BatchNorm1d(out_ch))\n",
    "            cnn_student_layers.append(activation)\n",
    "            s_cnn_out = (s_cnn_out + 2 * padding - dilation * (kernel_size - 1) - 1) // stride + 1\n",
    "\n",
    "        cnn_student_layers.append(nn.Flatten())\n",
    "        cnn_student_layers.append(nn.Linear(s_cnn_out * s_out_channels[-1], self.len_latent))\n",
    "        if enc_activation:\n",
    "            cnn_student_layers.append(activation)\n",
    "        self.cnn_student = nn.Sequential(*cnn_student_layers)\n",
    "        self.cnn_student.eval()\n",
    "\n",
    "        student_layers = []\n",
    "        student_layers.append(nn.Linear(self.len_latent + self.len_o1, student_hidden_dims[0]))\n",
    "        student_layers.append(activation)\n",
    "        for layer_index in range(len(student_hidden_dims)):\n",
    "            if layer_index == len(student_hidden_dims) - 1:\n",
    "                student_layers.append(nn.Linear(student_hidden_dims[layer_index], num_actions))\n",
    "            else:\n",
    "                student_layers.append(nn.Linear(student_hidden_dims[layer_index], student_hidden_dims[layer_index + 1]))\n",
    "                student_layers.append(activation)\n",
    "        self.student = nn.Sequential(*student_layers)\n",
    "        self.student.eval()\n",
    "\n",
    "        print(f\"Student CNN: {self.cnn_student}\")\n",
    "        print(f\"Student MLP: {self.student}\")\n",
    "        print(f\"Student parameters: {sum([p.numel() for p in self.student.parameters()]) + sum([p.numel() for p in self.cnn_student.parameters()])}\")\n",
    "\n",
    "    def forward(self, observations):\n",
    "        o_t = observations[-self.len_o1:]\n",
    "        h = observations[:-self.len_o1].reshape(self.num_obs - 1, self.len_o1).permute(1, 0)\n",
    "        z_t = self.cnn_student(h.unsqueeze(0)).squeeze(0)\n",
    "        actions_mean = self.student(torch.cat((o_t, z_t)))\n",
    "        return actions_mean\n",
    "    \n",
    "    @torch.jit.export\n",
    "    def reset(self):\n",
    "        pass\n",
    "\n",
    "    def export(self, path, filename):\n",
    "        os.makedirs(path, exist_ok=True)\n",
    "        path = os.path.join(path, filename)\n",
    "        self.to(\"cpu\")\n",
    "        traced_script_module = torch.jit.script(self)\n",
    "        traced_script_module.save(path)"
   ]
  },
  {
   "cell_type": "code",
   "execution_count": 4,
   "id": "70186c55",
   "metadata": {},
   "outputs": [
    {
     "name": "stdout",
     "output_type": "stream",
     "text": [
      "Student CNN: Sequential(\n",
      "  (0): Conv1d(48, 32, kernel_size=(5,), stride=(1,), padding=(2,))\n",
      "  (1): BatchNorm1d(32, eps=1e-05, momentum=0.1, affine=True, track_running_stats=True)\n",
      "  (2): ELU(alpha=1.0)\n",
      "  (3): Conv1d(32, 32, kernel_size=(5,), stride=(2,), padding=(2,))\n",
      "  (4): BatchNorm1d(32, eps=1e-05, momentum=0.1, affine=True, track_running_stats=True)\n",
      "  (5): ELU(alpha=1.0)\n",
      "  (6): Conv1d(32, 32, kernel_size=(5,), stride=(1,), padding=(4,), dilation=(2,))\n",
      "  (7): BatchNorm1d(32, eps=1e-05, momentum=0.1, affine=True, track_running_stats=True)\n",
      "  (8): ELU(alpha=1.0)\n",
      "  (9): Conv1d(32, 32, kernel_size=(5,), stride=(2,), padding=(2,))\n",
      "  (10): BatchNorm1d(32, eps=1e-05, momentum=0.1, affine=True, track_running_stats=True)\n",
      "  (11): ELU(alpha=1.0)\n",
      "  (12): Conv1d(32, 32, kernel_size=(5,), stride=(1,), padding=(8,), dilation=(4,))\n",
      "  (13): BatchNorm1d(32, eps=1e-05, momentum=0.1, affine=True, track_running_stats=True)\n",
      "  (14): ELU(alpha=1.0)\n",
      "  (15): Conv1d(32, 32, kernel_size=(5,), stride=(2,), padding=(2,))\n",
      "  (16): BatchNorm1d(32, eps=1e-05, momentum=0.1, affine=True, track_running_stats=True)\n",
      "  (17): ELU(alpha=1.0)\n",
      "  (18): Flatten(start_dim=1, end_dim=-1)\n",
      "  (19): Linear(in_features=256, out_features=64, bias=True)\n",
      ")\n",
      "Student MLP: Sequential(\n",
      "  (0): Linear(in_features=112, out_features=256, bias=True)\n",
      "  (1): ELU(alpha=1.0)\n",
      "  (2): Linear(in_features=256, out_features=128, bias=True)\n",
      "  (3): ELU(alpha=1.0)\n",
      "  (4): Linear(in_features=128, out_features=64, bias=True)\n",
      "  (5): ELU(alpha=1.0)\n",
      "  (6): Linear(in_features=64, out_features=12, bias=True)\n",
      ")\n",
      "Student parameters: 121164\n"
     ]
    }
   ],
   "source": [
    "model = CNN1d_o1_Student(\n",
    "    num_obs=65,\n",
    "    num_actions=12,\n",
    "    student_hidden_dims=[256, 128, 64],\n",
    "    student_cnn_kernel_sizes=[5, 5, 5, 5, 5, 5],\n",
    "    student_cnn_strides=[1, 2, 1, 2, 1, 2],\n",
    "    student_cnn_filters=[32] * 6,\n",
    "    student_cnn_paddings=[2, 2, 4, 2, 8, 2],\n",
    "    student_cnn_dilations=[1, 1, 2, 1, 4, 1],\n",
    "    len_latent=64,\n",
    "    len_o1=48,\n",
    "    enc_activation=False\n",
    ")"
   ]
  },
  {
   "cell_type": "code",
   "execution_count": 5,
   "id": "4f1ae88e",
   "metadata": {},
   "outputs": [],
   "source": [
    "model_path = '/home/aivizw/IsaacLab_5.0.0/logs/rsl_rl/go2_velocity_rma_v3_rough/2025-08-29_10-22-54'\n",
    "model_name = 'model_5000.pt'"
   ]
  },
  {
   "cell_type": "code",
   "execution_count": 6,
   "id": "37037b6f",
   "metadata": {},
   "outputs": [
    {
     "data": {
      "text/plain": [
       "<All keys matched successfully>"
      ]
     },
     "execution_count": 6,
     "metadata": {},
     "output_type": "execute_result"
    }
   ],
   "source": [
    "load_state = torch.load(model_path + '/' + model_name, weights_only=True, map_location=torch.device('cpu'))\n",
    "model_state_dict = {key: value for key, value in model.state_dict().items()}\n",
    "\n",
    "for key, value in load_state['model_state_dict'].items():\n",
    "    if \"student.\" in key:\n",
    "        model_state_dict[key] = value\n",
    "\n",
    "model.load_state_dict(model_state_dict)"
   ]
  },
  {
   "cell_type": "code",
   "execution_count": 7,
   "id": "73b58585",
   "metadata": {},
   "outputs": [
    {
     "ename": "",
     "evalue": "",
     "output_type": "error",
     "traceback": [
      "\u001b[1;31mThe Kernel crashed while executing code in the current cell or a previous cell. \n",
      "\u001b[1;31mPlease review the code in the cell(s) to identify a possible cause of the failure. \n",
      "\u001b[1;31mClick <a href='https://aka.ms/vscodeJupyterKernelCrash'>here</a> for more info. \n",
      "\u001b[1;31mView Jupyter <a href='command:jupyter.viewOutput'>log</a> for further details."
     ]
    }
   ],
   "source": [
    "model.export(model_path, model_name.replace('.pt', '_jit.pt')) "
   ]
  },
  {
   "cell_type": "code",
   "execution_count": null,
   "id": "ae389181",
   "metadata": {},
   "outputs": [],
   "source": []
  }
 ],
 "metadata": {
  "kernelspec": {
   "display_name": "env_isaacsim_5.0.0",
   "language": "python",
   "name": "python3"
  },
  "language_info": {
   "codemirror_mode": {
    "name": "ipython",
    "version": 3
   },
   "file_extension": ".py",
   "mimetype": "text/x-python",
   "name": "python",
   "nbconvert_exporter": "python",
   "pygments_lexer": "ipython3",
   "version": "3.11.0rc1"
  }
 },
 "nbformat": 4,
 "nbformat_minor": 5
}
